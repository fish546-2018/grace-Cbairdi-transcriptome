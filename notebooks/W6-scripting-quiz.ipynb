{
 "cells": [
  {
   "cell_type": "markdown",
   "metadata": {
    "collapsed": true
   },
   "source": [
    "## Week 6 quiz: scripting"
   ]
  },
  {
   "cell_type": "markdown",
   "metadata": {},
   "source": [
    "### Find out how many reads are in RNA sequence data files"
   ]
  },
  {
   "cell_type": "markdown",
   "metadata": {},
   "source": [
    "```!curl``` the four .fastq.gz files from Owl"
   ]
  },
  {
   "cell_type": "code",
   "execution_count": 1,
   "metadata": {},
   "outputs": [
    {
     "name": "stdout",
     "output_type": "stream",
     "text": [
      "  % Total    % Received % Xferd  Average Speed   Time    Time     Time  Current\n",
      "                                 Dload  Upload   Total   Spent    Left  Speed\n",
      "100 1573M  100 1573M    0     0  10.1M      0  0:02:35  0:02:35 --:--:-- 14.8M  12.9M      0  0:02:01  0:00:24  0:01:37 9329k  0     0  13.4M      0  0:01:57  0:00:34  0:01:23 13.0M38 1573M   38  610M    0     0  10.5M      0  0:02:29  0:00:57  0:01:32 6607k   0     0  11.1M      0  0:02:21  0:01:15  0:01:06 11.5M5M    0     0  11.3M      0  0:02:18  0:01:30  0:00:48 15.8M    0  10.3M      0  0:02:31  0:02:19  0:00:12  9.9M1572M    0     0  10.1M      0  0:02:35  0:02:35 --:--:-- 14.2M\n"
     ]
    }
   ],
   "source": [
    "!curl http://owl.fish.washington.edu/nightingales/C_bairdi/304428_S1_L001_R1_001.fastq.gz > Cb_304428_S1_L001_R1_001.fastq.gz"
   ]
  },
  {
   "cell_type": "code",
   "execution_count": null,
   "metadata": {
    "collapsed": true
   },
   "outputs": [],
   "source": [
    "!curl http://owl.fish.washington.edu/nightingales/C_bairdi/304428_S1_L001_R2_001.fastq.gz > Cb_304428_S1_L001_R2_001.fastq.gz"
   ]
  },
  {
   "cell_type": "code",
   "execution_count": null,
   "metadata": {
    "collapsed": true
   },
   "outputs": [],
   "source": [
    "!curl http://owl.fish.washington.edu/nightingales/C_bairdi/304428_S1_L002_R1_001.fastq.gz > Cb_304428_S1_L002_R1_001.fastq.gz"
   ]
  },
  {
   "cell_type": "code",
   "execution_count": null,
   "metadata": {
    "collapsed": true
   },
   "outputs": [],
   "source": [
    "!curl http://owl.fish.washington.edu/nightingales/C_bairdi/304428_S1_L002_R2_001.fastq.gz > Cb_304428_S1_L002_R2_001.fastq.gz"
   ]
  },
  {
   "cell_type": "markdown",
   "metadata": {},
   "source": [
    "Count the number of reads in each file"
   ]
  },
  {
   "cell_type": "code",
   "execution_count": 5,
   "metadata": {},
   "outputs": [
    {
     "name": "stdout",
     "output_type": "stream",
     "text": [
      "3902198\r\n"
     ]
    }
   ],
   "source": [
    "!grep -c \"@\" Cb_304428_S1_L001_R1_001.fastq.gz"
   ]
  },
  {
   "cell_type": "code",
   "execution_count": null,
   "metadata": {
    "collapsed": true
   },
   "outputs": [],
   "source": [
    "!grep -c \"@\" Cb_304428_S1_L001_R2_001.fastq.gz"
   ]
  },
  {
   "cell_type": "code",
   "execution_count": null,
   "metadata": {
    "collapsed": true
   },
   "outputs": [],
   "source": [
    "!grep -c \"@\" Cb_304428_S1_L002_R1_001.fastq.gz"
   ]
  },
  {
   "cell_type": "code",
   "execution_count": null,
   "metadata": {
    "collapsed": true
   },
   "outputs": [],
   "source": [
    "!grep -c \"@\" Cb_304428_S1_L002_R2_001.fastq.gz"
   ]
  },
  {
   "cell_type": "markdown",
   "metadata": {},
   "source": []
  },
  {
   "cell_type": "code",
   "execution_count": null,
   "metadata": {
    "collapsed": true
   },
   "outputs": [],
   "source": []
  }
 ],
 "metadata": {
  "kernelspec": {
   "display_name": "Python [default]",
   "language": "python",
   "name": "python3"
  },
  "language_info": {
   "codemirror_mode": {
    "name": "ipython",
    "version": 3
   },
   "file_extension": ".py",
   "mimetype": "text/x-python",
   "name": "python",
   "nbconvert_exporter": "python",
   "pygments_lexer": "ipython3",
   "version": "3.5.3"
  }
 },
 "nbformat": 4,
 "nbformat_minor": 2
}
