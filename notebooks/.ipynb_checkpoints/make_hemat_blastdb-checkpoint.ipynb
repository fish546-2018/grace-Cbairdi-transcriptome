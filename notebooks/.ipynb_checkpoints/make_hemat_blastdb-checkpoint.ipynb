{
 "cells": [
  {
   "cell_type": "markdown",
   "metadata": {},
   "source": [
    "## Make _Hematodinium sp._ blastn db"
   ]
  },
  {
   "cell_type": "code",
   "execution_count": 1,
   "metadata": {
    "collapsed": true
   },
   "outputs": [],
   "source": [
    "# fasta downloaded from: https://www.ncbi.nlm.nih.gov/Traces/wgs/?val=GEMP01"
   ]
  },
  {
   "cell_type": "code",
   "execution_count": 2,
   "metadata": {},
   "outputs": [
    {
     "name": "stdout",
     "output_type": "stream",
     "text": [
      "USAGE\r\n",
      "  makeblastdb [-h] [-help] [-in input_file] [-input_type type]\r\n",
      "    -dbtype molecule_type [-title database_title] [-parse_seqids]\r\n",
      "    [-hash_index] [-mask_data mask_data_files] [-mask_id mask_algo_ids]\r\n",
      "    [-mask_desc mask_algo_descriptions] [-gi_mask]\r\n",
      "    [-gi_mask_name gi_based_mask_names] [-out database_name]\r\n",
      "    [-max_file_sz number_of_bytes] [-logfile File_Name] [-taxid TaxID]\r\n",
      "    [-taxid_map TaxIDMapFile] [-version]\r\n",
      "\r\n",
      "DESCRIPTION\r\n",
      "   Application to create BLAST databases, version 2.6.0+\r\n",
      "\r\n",
      "REQUIRED ARGUMENTS\r\n",
      " -dbtype <String, `nucl', `prot'>\r\n",
      "   Molecule type of target db\r\n",
      "\r\n",
      "OPTIONAL ARGUMENTS\r\n",
      " -h\r\n",
      "   Print USAGE and DESCRIPTION;  ignore all other parameters\r\n",
      " -help\r\n",
      "   Print USAGE, DESCRIPTION and ARGUMENTS; ignore all other parameters\r\n",
      " -version\r\n",
      "   Print version number;  ignore other arguments\r\n",
      "\r\n",
      " *** Input options\r\n",
      " -in <File_In>\r\n",
      "   Input file/database name\r\n",
      "   Default = `-'\r\n",
      " -input_type <String, `asn1_bin', `asn1_txt', `blastdb', `fasta'>\r\n",
      "   Type of the data specified in input_file\r\n",
      "   Default = `fasta'\r\n",
      "\r\n",
      " *** Configuration options\r\n",
      " -title <String>\r\n",
      "   Title for BLAST database\r\n",
      "   Default = input file name provided to -in argument\r\n",
      " -parse_seqids\r\n",
      "   Option to parse seqid for FASTA input if set, for all other input types\r\n",
      "   seqids are parsed automatically\r\n",
      " -hash_index\r\n",
      "   Create index of sequence hash values.\r\n",
      "\r\n",
      " *** Sequence masking options\r\n",
      " -mask_data <String>\r\n",
      "   Comma-separated list of input files containing masking data as produced by\r\n",
      "   NCBI masking applications (e.g. dustmasker, segmasker, windowmasker)\r\n",
      " -mask_id <String>\r\n",
      "   Comma-separated list of strings to uniquely identify the masking algorithm\r\n",
      "    * Requires:  mask_data\r\n",
      "    * Incompatible with:  gi_mask\r\n",
      " -mask_desc <String>\r\n",
      "   Comma-separated list of free form strings to describe the masking algorithm\r\n",
      "   details\r\n",
      "    * Requires:  mask_id\r\n",
      " -gi_mask\r\n",
      "   Create GI indexed masking data.\r\n",
      "    * Requires:  parse_seqids\r\n",
      "    * Incompatible with:  mask_id\r\n",
      " -gi_mask_name <String>\r\n",
      "   Comma-separated list of masking data output files.\r\n",
      "    * Requires:  mask_data, gi_mask\r\n",
      "\r\n",
      " *** Output options\r\n",
      " -out <String>\r\n",
      "   Name of BLAST database to be created\r\n",
      "   Default = input file name provided to -in argumentRequired if multiple\r\n",
      "   file(s)/database(s) are provided as input\r\n",
      " -max_file_sz <String>\r\n",
      "   Maximum file size for BLAST database files\r\n",
      "   Default = `1GB'\r\n",
      " -logfile <File_Out>\r\n",
      "   File to which the program log should be redirected\r\n",
      "\r\n",
      " *** Taxonomy options\r\n",
      " -taxid <Integer, >=0>\r\n",
      "   Taxonomy ID to assign to all sequences\r\n",
      "    * Incompatible with:  taxid_map\r\n",
      " -taxid_map <File_In>\r\n",
      "   Text file mapping sequence IDs to taxonomy IDs.\r\n",
      "   Format:<SequenceId> <TaxonomyId><newline>\r\n",
      "    * Requires:  parse_seqids\r\n",
      "    * Incompatible with:  taxid\r\n",
      "\r\n"
     ]
    }
   ],
   "source": [
    "!makeblastdb -help"
   ]
  },
  {
   "cell_type": "code",
   "execution_count": 3,
   "metadata": {},
   "outputs": [
    {
     "data": {
      "text/plain": [
       "'/Users/graciecrandall/Documents/GitHub/grace-Cbairdi-transcriptome/notebooks'"
      ]
     },
     "execution_count": 3,
     "metadata": {},
     "output_type": "execute_result"
    }
   ],
   "source": [
    "pwd"
   ]
  },
  {
   "cell_type": "code",
   "execution_count": 5,
   "metadata": {},
   "outputs": [
    {
     "name": "stdout",
     "output_type": "stream",
     "text": [
      "\n",
      "\n",
      "Building a new DB, current time: 11/13/2018 21:57:09\n",
      "New DB name:   /Users/graciecrandall/Documents/GitHub/grace-Cbairdi-transcriptome/blastdb/hemat\n",
      "New DB title:  ../blastdb/hemat.fasta\n",
      "Sequence type: Nucleotide\n",
      "Deleted existing Nucleotide BLAST database named /Users/graciecrandall/Documents/GitHub/grace-Cbairdi-transcriptome/blastdb/hemat\n",
      "Keep MBits: T\n",
      "Maximum file size: 1000000000B\n",
      "Adding sequences from FASTA; added 222656 sequences in 21.571 seconds.\n"
     ]
    }
   ],
   "source": [
    "!makeblastdb \\\n",
    "-in ../blastdb/hemat.fasta \\\n",
    "-dbtype nucl \\\n",
    "-out /Users/graciecrandall/Documents/GitHub/grace-Cbairdi-transcriptome/blastdb/hemat"
   ]
  },
  {
   "cell_type": "code",
   "execution_count": null,
   "metadata": {
    "collapsed": true
   },
   "outputs": [],
   "source": []
  }
 ],
 "metadata": {
  "kernelspec": {
   "display_name": "Python [default]",
   "language": "python",
   "name": "python3"
  },
  "language_info": {
   "codemirror_mode": {
    "name": "ipython",
    "version": 3
   },
   "file_extension": ".py",
   "mimetype": "text/x-python",
   "name": "python",
   "nbconvert_exporter": "python",
   "pygments_lexer": "ipython3",
   "version": "3.5.3"
  }
 },
 "nbformat": 4,
 "nbformat_minor": 2
}
