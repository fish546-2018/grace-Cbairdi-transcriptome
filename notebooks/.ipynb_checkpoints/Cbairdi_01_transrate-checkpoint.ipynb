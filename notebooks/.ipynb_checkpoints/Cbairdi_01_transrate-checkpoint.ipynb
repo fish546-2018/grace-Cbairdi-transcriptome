{
 "cells": [
  {
   "cell_type": "markdown",
   "metadata": {},
   "source": [
    "# Notebook for running Transrate to check quality of _C. bairdi_ library 01 quality"
   ]
  },
  {
   "cell_type": "markdown",
   "metadata": {},
   "source": [
    "### All trinity output files were rsync'ed to Owl: http://owl.fish.washington.edu/scaphapoda/grace/Crab-project/trinity_out_dir/"
   ]
  },
  {
   "cell_type": "markdown",
   "metadata": {},
   "source": [
    "### This notebook is based on that of Laura Spencer: https://github.com/fish546-2018/laura-quantseq/blob/master/notebooks/transcriptome-assess-annotate.ipynb"
   ]
  },
  {
   "cell_type": "code",
   "execution_count": 13,
   "metadata": {
    "collapsed": true
   },
   "outputs": [],
   "source": [
    "wd = \"../../Documents/GitHub/grace-Cbairdi-transcriptome/notebooks/\""
   ]
  },
  {
   "cell_type": "code",
   "execution_count": 15,
   "metadata": {},
   "outputs": [
    {
     "name": "stdout",
     "output_type": "stream",
     "text": [
      "/Users/graciecrandall/Documents/GitHub/grace-Cbairdi-transcriptome/notebooks\n"
     ]
    }
   ],
   "source": [
    "cd {wd}"
   ]
  },
  {
   "cell_type": "code",
   "execution_count": 17,
   "metadata": {},
   "outputs": [
    {
     "data": {
      "text/plain": [
       "'/Users/graciecrandall/Documents/GitHub/grace-Cbairdi-transcriptome/notebooks'"
      ]
     },
     "execution_count": 17,
     "metadata": {},
     "output_type": "execute_result"
    }
   ],
   "source": [
    "pwd"
   ]
  },
  {
   "cell_type": "code",
   "execution_count": 19,
   "metadata": {},
   "outputs": [
    {
     "name": "stdout",
     "output_type": "stream",
     "text": [
      "  % Total    % Received % Xferd  Average Speed   Time    Time     Time  Current\n",
      "                                 Dload  Upload   Total   Spent    Left  Speed\n",
      "100  148M  100  148M    0     0  12.7M      0  0:00:11  0:00:11 --:--:-- 14.6M0  148M   60 89.8M    0     0  11.5M      0  0:00:12  0:00:07  0:00:05 11.4M13.0M\n"
     ]
    }
   ],
   "source": [
    "!curl \\\n",
    "http://owl.fish.washington.edu/scaphapoda/grace/Crab-project/1101-Cbairdi-assembly/trinity_out_dir/Trinity.fasta \\\n",
    "> ../analyses/trinity/11012018-Cbairdi-assembly.fasta"
   ]
  },
  {
   "cell_type": "code",
   "execution_count": 20,
   "metadata": {},
   "outputs": [
    {
     "name": "stdout",
     "output_type": "stream",
     "text": [
      "  % Total    % Received % Xferd  Average Speed   Time    Time     Time  Current\n",
      "                                 Dload  Upload   Total   Spent    Left  Speed\n",
      "100    56  100    56    0     0    125      0 --:--:-- --:--:-- --:--:--   134\n"
     ]
    }
   ],
   "source": [
    "!curl \\\n",
    "http://owl.fish.washington.edu/scaphapoda/grace/Crab-project/1101-Cbairdi-assembly/Cb01-shasum.txt \\\n",
    "> ../analyses/trinity/11012018-Cbairdi-shasum.txt"
   ]
  },
  {
   "cell_type": "code",
   "execution_count": 21,
   "metadata": {},
   "outputs": [
    {
     "name": "stdout",
     "output_type": "stream",
     "text": [
      "e0c9e70712ab7166f7b47f97bc576094a5db9037  Trinity.fasta\r\n"
     ]
    }
   ],
   "source": [
    "# shasum of trinity fasta file, transferred directly from Mox\n",
    "! cat ../analyses/trinity/11012018-Cbairdi-shasum.txt"
   ]
  },
  {
   "cell_type": "code",
   "execution_count": 25,
   "metadata": {},
   "outputs": [
    {
     "name": "stdout",
     "output_type": "stream",
     "text": [
      "e0c9e70712ab7166f7b47f97bc576094a5db9037  ../analyses/trinity/11012018-Cbairdi-assembly.fasta\r\n"
     ]
    }
   ],
   "source": [
    "# shasum of what I curled to /analyses/trinity/ \n",
    "! shasum ../analyses/trinity/11012018-Cbairdi-assembly.fasta"
   ]
  },
  {
   "cell_type": "code",
   "execution_count": 26,
   "metadata": {},
   "outputs": [
    {
     "name": "stdout",
     "output_type": "stream",
     "text": [
      "143172\r\n"
     ]
    }
   ],
   "source": [
    "! grep -c \">\" ../analyses/trinity/11012018-Cbairdi-assembly.fasta"
   ]
  },
  {
   "cell_type": "markdown",
   "metadata": {},
   "source": [
    "### Transrate install from: http://hibberdlab.com/transrate/getting_started.html"
   ]
  },
  {
   "cell_type": "code",
   "execution_count": 29,
   "metadata": {
    "collapsed": true
   },
   "outputs": [],
   "source": [
    "transrate = \"/Users/graciecrandall/Downloads/transrate-1.0.3-osx/\""
   ]
  },
  {
   "cell_type": "code",
   "execution_count": 30,
   "metadata": {},
   "outputs": [
    {
     "name": "stdout",
     "output_type": "stream",
     "text": [
      "           _                                        _\r\n",
      "          | |_  _ __  __ _  _ __   ___  _ __  __ _ | |_  ___\r\n",
      "\u001b[0;32;49m░▓▓▓^▓▓▓░\u001b[0m | __|| '__|/ _` || '_ \\ / __|| '__|/ _` || __|/ _ \\ \u001b[0;32;49m░▓▓▓^▓▓▓░\u001b[0m\r\n",
      "\u001b[0;33;49m░▓▓▓^▓▓▓░\u001b[0m | |_ | |  | (_| || | | |\\__ \\| |  | (_| || |_|  __/ \u001b[0;33;49m░▓▓▓^▓▓▓░\u001b[0m\r\n",
      "\u001b[0;31;49m░▓▓▓^▓▓▓░\u001b[0m  \\__||_|   \\__,_||_| |_||___/|_|   \\__,_| \\__|\\___| \u001b[0;31;49m░▓▓▓^▓▓▓░\u001b[0m\r\n",
      "\r\n",
      "Transrate v1.0.3\r\n",
      "by Richard Smith-Unna, Chris Boursnell, Rob Patro,\r\n",
      "   Julian Hibberd, and Steve Kelly\r\n",
      "\r\n",
      "DESCRIPTION:\r\n",
      "Analyse a de-novo transcriptome assembly using three kinds of metrics:\r\n",
      "\r\n",
      "1. sequence based (if --assembly is given)\r\n",
      "2. read mapping based (if --left and --right are given)\r\n",
      "3. reference based (if --reference is given)\r\n",
      "\r\n",
      "Documentation at http://hibberdlab.com/transrate\r\n",
      "\r\n",
      "USAGE:\r\n",
      "transrate <options>\r\n",
      "\r\n",
      "OPTIONS:\r\n",
      "  --assembly=<s>            Assembly file(s) in FASTA format, comma-separated\r\n",
      "  --left=<s>                Left reads file(s) in FASTQ format, comma-separated\r\n",
      "  --right=<s>               Right reads file(s) in FASTQ format,\r\n",
      "                            comma-separated\r\n",
      "  --reference=<s>           Reference proteome or transcriptome file in FASTA\r\n",
      "                            format\r\n",
      "  --threads=<i>             Number of threads to use (default: 8)\r\n",
      "  --merge-assemblies=<s>    Merge best contigs from multiple assemblies into\r\n",
      "                            file\r\n",
      "  --output=<s>              Directory where results are output (will be\r\n",
      "                            created) (default: transrate_results)\r\n",
      "  --loglevel=<s>            Log level. One of [error, info, warn, debug]\r\n",
      "                            (default: info)\r\n",
      "  --install-deps=<s>        Install any missing dependencies. One of [ref]\r\n",
      "  --examples                Show some example commands with explanations\r\n"
     ]
    }
   ],
   "source": [
    "! {transrate}transrate --help"
   ]
  },
  {
   "cell_type": "code",
   "execution_count": 31,
   "metadata": {},
   "outputs": [
    {
     "name": "stdout",
     "output_type": "stream",
     "text": [
      "[ INFO] 2018-11-12 12:51:24 : Loading assembly: /Users/graciecrandall/Documents/GitHub/grace-Cbairdi-transcriptome/analyses/trinity/11012018-Cbairdi-assembly.fasta\n",
      "[ INFO] 2018-11-12 12:51:36 : Analysing assembly: /Users/graciecrandall/Documents/GitHub/grace-Cbairdi-transcriptome/analyses/trinity/11012018-Cbairdi-assembly.fasta\n",
      "[ INFO] 2018-11-12 12:51:36 : Results will be saved in /Users/graciecrandall/Documents/GitHub/grace-Cbairdi-transcriptome/analyses/transrate_results/11012018-Cbairdi-assembly\n",
      "[ INFO] 2018-11-12 12:51:37 : Calculating contig metrics...\n",
      "[ INFO] 2018-11-12 12:51:47 : Contig metrics:\n",
      "[ INFO] 2018-11-12 12:51:47 : -----------------------------------\n",
      "[ INFO] 2018-11-12 12:51:47 : n seqs                       143172\n",
      "[ INFO] 2018-11-12 12:51:47 : smallest                        182\n",
      "[ INFO] 2018-11-12 12:51:47 : largest                       13616\n",
      "[ INFO] 2018-11-12 12:51:47 : n bases                   144678598\n",
      "[ INFO] 2018-11-12 12:51:47 : mean len                    1010.48\n",
      "[ INFO] 2018-11-12 12:51:47 : n under 200                      29\n",
      "[ INFO] 2018-11-12 12:51:47 : n over 1k                     49933\n",
      "[ INFO] 2018-11-12 12:51:47 : n over 10k                       14\n",
      "[ INFO] 2018-11-12 12:51:47 : n with orf                    52176\n",
      "[ INFO] 2018-11-12 12:51:47 : mean orf percent              58.11\n",
      "[ INFO] 2018-11-12 12:51:47 : n90                             407\n",
      "[ INFO] 2018-11-12 12:51:47 : n70                            1033\n",
      "[ INFO] 2018-11-12 12:51:47 : n50                            1696\n",
      "[ INFO] 2018-11-12 12:51:47 : n30                            2431\n",
      "[ INFO] 2018-11-12 12:51:47 : n10                            3801\n",
      "[ INFO] 2018-11-12 12:51:47 : gc                             0.46\n",
      "[ INFO] 2018-11-12 12:51:47 : bases n                           0\n",
      "[ INFO] 2018-11-12 12:51:47 : proportion n                    0.0\n",
      "[ INFO] 2018-11-12 12:51:47 : Contig metrics done in 11 seconds\n",
      "[ INFO] 2018-11-12 12:51:47 : No reads provided, skipping read diagnostics\n",
      "[ INFO] 2018-11-12 12:51:47 : No reference provided, skipping comparative diagnostics\n",
      "[ INFO] 2018-11-12 12:51:47 : Writing contig metrics for each contig to /Users/graciecrandall/Documents/GitHub/grace-Cbairdi-transcriptome/analyses/transrate_results/11012018-Cbairdi-assembly/contigs.csv\n",
      "[ INFO] 2018-11-12 12:51:51 : Writing analysis results to assemblies.csv\n"
     ]
    }
   ],
   "source": [
    "! {transrate}transrate \\\n",
    "--output=../analyses/transrate_results/ \\\n",
    "--assembly ../analyses/trinity/11012018-Cbairdi-assembly.fasta"
   ]
  },
  {
   "cell_type": "markdown",
   "metadata": {
    "collapsed": true
   },
   "source": [
    "## Trinity summary stats"
   ]
  },
  {
   "cell_type": "code",
   "execution_count": 8,
   "metadata": {
    "collapsed": true
   },
   "outputs": [],
   "source": [
    "#Download repo from: https://github.com/trinityrnaseq/trinityrnaseq\n",
    "#Have access to Trinity.fasta"
   ]
  },
  {
   "cell_type": "code",
   "execution_count": 2,
   "metadata": {},
   "outputs": [
    {
     "data": {
      "text/plain": [
       "'/Users/graciecrandall/Documents/GitHub/grace-Cbairdi-transcriptome/notebooks'"
      ]
     },
     "execution_count": 2,
     "metadata": {},
     "output_type": "execute_result"
    }
   ],
   "source": [
    "pwd"
   ]
  },
  {
   "cell_type": "code",
   "execution_count": 4,
   "metadata": {
    "collapsed": true
   },
   "outputs": [],
   "source": [
    "wd = \"../../../../Downloads/trinityrnaseq-master/\""
   ]
  },
  {
   "cell_type": "code",
   "execution_count": 5,
   "metadata": {},
   "outputs": [
    {
     "name": "stdout",
     "output_type": "stream",
     "text": [
      "/Users/graciecrandall/Downloads/trinityrnaseq-master\n"
     ]
    }
   ],
   "source": [
    "cd {wd}"
   ]
  },
  {
   "cell_type": "code",
   "execution_count": 7,
   "metadata": {},
   "outputs": [
    {
     "name": "stdout",
     "output_type": "stream",
     "text": [
      "\n",
      "\n",
      "################################\n",
      "## Counts of transcripts, etc.\n",
      "################################\n",
      "Total trinity 'genes':\t79739\n",
      "Total trinity transcripts:\t143172\n",
      "Percent GC: 46.43\n",
      "\n",
      "########################################\n",
      "Stats based on ALL transcript contigs:\n",
      "########################################\n",
      "\n",
      "\tContig N10: 3801\n",
      "\tContig N20: 2948\n",
      "\tContig N30: 2431\n",
      "\tContig N40: 2032\n",
      "\tContig N50: 1696\n",
      "\n",
      "\tMedian contig length: 608\n",
      "\tAverage contig: 1010.52\n",
      "\tTotal assembled bases: 144678598\n",
      "\n",
      "\n",
      "#####################################################\n",
      "## Stats based on ONLY LONGEST ISOFORM per 'GENE':\n",
      "#####################################################\n",
      "\n",
      "\tContig N10: 3659\n",
      "\tContig N20: 2836\n",
      "\tContig N30: 2306\n",
      "\tContig N40: 1901\n",
      "\tContig N50: 1539\n",
      "\n",
      "\tMedian contig length: 479\n",
      "\tAverage contig: 873.95\n",
      "\tTotal assembled bases: 69687682\n",
      "\n",
      "\n",
      "\n"
     ]
    }
   ],
   "source": [
    "!perl ../../../graciecrandall/Downloads/trinityrnaseq-master/util/TrinityStats.pl \\\n",
    "../../Downloads/Trinity.fasta"
   ]
  },
  {
   "cell_type": "code",
   "execution_count": null,
   "metadata": {
    "collapsed": true
   },
   "outputs": [],
   "source": []
  }
 ],
 "metadata": {
  "kernelspec": {
   "display_name": "Python [default]",
   "language": "python",
   "name": "python3"
  },
  "language_info": {
   "codemirror_mode": {
    "name": "ipython",
    "version": 3
   },
   "file_extension": ".py",
   "mimetype": "text/x-python",
   "name": "python",
   "nbconvert_exporter": "python",
   "pygments_lexer": "ipython3",
   "version": "3.5.3"
  }
 },
 "nbformat": 4,
 "nbformat_minor": 2
}
