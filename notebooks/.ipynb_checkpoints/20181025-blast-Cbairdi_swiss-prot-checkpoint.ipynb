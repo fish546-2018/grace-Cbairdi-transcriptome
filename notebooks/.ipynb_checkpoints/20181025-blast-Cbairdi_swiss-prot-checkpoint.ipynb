{
 "cells": [
  {
   "cell_type": "markdown",
   "metadata": {},
   "source": [
    "# BLAST - _C. bairdi_ with Swiss prot"
   ]
  },
  {
   "cell_type": "markdown",
   "metadata": {},
   "source": [
    "#### Source: [https://raw.githubusercontent.com/fish546-2018/grace-Cbairdi-transcriptome/master/data/query.fa]"
   ]
  },
  {
   "cell_type": "code",
   "execution_count": 2,
   "metadata": {
    "collapsed": true
   },
   "outputs": [],
   "source": [
    "# Will blast Trinity.fasta against Swiss prot\n",
    "# Upload Trinity.fasta to http://owl.fish.washington.edu/scaphapoda/grace/Crab-project/\n",
    "# Copy the Trinity.fasta to http://owl.fish.washington.edu/scaphapoda/grace/Crab-project/Trinity.fasta\n",
    "# change name of Trinity.fasta in http://owl.fish.washington.edu/scaphapoda/grace/Crab-project/Trinity.fasta to \"query.fa\""
   ]
  },
  {
   "cell_type": "code",
   "execution_count": 3,
   "metadata": {
    "collapsed": true
   },
   "outputs": [],
   "source": [
    "wd= \"../data/\"\n",
    "dircode=\"cb\""
   ]
  },
  {
   "cell_type": "code",
   "execution_count": 4,
   "metadata": {},
   "outputs": [
    {
     "name": "stdout",
     "output_type": "stream",
     "text": [
      "/Users/graciecrandall/Documents/GitHub/grace-Cbairdi-transcriptome/data\n"
     ]
    }
   ],
   "source": [
    "cd {wd}"
   ]
  },
  {
   "cell_type": "code",
   "execution_count": 5,
   "metadata": {},
   "outputs": [
    {
     "name": "stdout",
     "output_type": "stream",
     "text": [
      "1030-cbairdiblast-sprot.tab  304428_S1_L002_R2_001.fastq\r\n",
      "304428_S1_L001_R1_001.fastq  README.md\r\n",
      "304428_S1_L001_R2_001.fastq  query.fa\r\n",
      "304428_S1_L002_R1_001.fastq\r\n"
     ]
    }
   ],
   "source": [
    "ls /Users/graciecrandall/Documents/GitHub/grace-Cbairdi-transcriptome/data/\n"
   ]
  },
  {
   "cell_type": "code",
   "execution_count": 6,
   "metadata": {},
   "outputs": [
    {
     "name": "stdout",
     "output_type": "stream",
     "text": [
      ">TRINITY_DN9_c0_g1_i1 len=226 path=[1:0-225] [-1, 1, -2]\r\n",
      "ATATAGTGTATACATATACAAATATTTAATCTTAACTTATGTGGAAAATGTTTCAAGGCT\r\n",
      "GGTTGGTCATGTTTTCATCAACACACCGTTCTTACACTGCTCAATCTGTGCTTTGAATCC\r\n",
      "CGTGTTGCACTCTTCCTCCTCATTCCTCATGCTTCTAACCATTCCTTCAGTGGCTGTCAC\r\n",
      "ATTCCACTCTTGGTGAACTTCAAACAGATAATAAAGTAGAAAGAGT\r\n",
      ">TRINITY_DN4_c0_g1_i1 len=248 path=[226:0-247] [-1, 226, -2]\r\n",
      "GCCCGAACAAAACACATTAATTAGATTAAACTTTTACTTTTTAATTAAGTAAACTCTACT\r\n",
      "TATATGTAAAGCTTTATAGGGTCTTATCGTCCCCCTAAAGAATCTAAGCCTTTTCACTTA\r\n",
      "GAGGTTAATTTCTAATTTTACAGTAAAGACAGCTTTTCCTTTGTCCGACCATTCATACAA\r\n",
      "GCTTTCAATCAAAAAGCTAATGATTATGCTACCTTTGCACGGTCAAAATACCGCGGCTCT\r\n"
     ]
    }
   ],
   "source": [
    "!head query.fa"
   ]
  },
  {
   "cell_type": "code",
   "execution_count": 7,
   "metadata": {
    "collapsed": true
   },
   "outputs": [],
   "source": [
    "#get uniprot_sprot.fasta from here: https://github.com/grace-ac/Practicing-with-Blast/blob/master/notebooks/Make_blast_db.ipynb"
   ]
  },
  {
   "cell_type": "code",
   "execution_count": 8,
   "metadata": {},
   "outputs": [
    {
     "ename": "SyntaxError",
     "evalue": "invalid syntax (<ipython-input-8-54b031ff59f9>, line 2)",
     "output_type": "error",
     "traceback": [
      "\u001b[0;36m  File \u001b[0;32m\"<ipython-input-8-54b031ff59f9>\"\u001b[0;36m, line \u001b[0;32m2\u001b[0m\n\u001b[0;31m    -max_target_seqs 1 -outfmt 6 -num_threads 8 -out 1031-cbairdiblast-sprot.tab\u001b[0m\n\u001b[0m                     ^\u001b[0m\n\u001b[0;31mSyntaxError\u001b[0m\u001b[0;31m:\u001b[0m invalid syntax\n"
     ]
    }
   ],
   "source": [
    "!blastx \\\n",
    "-query query.fa \\\n",
    "-db /Users/graciecrandall/Documents/GitHub/Practicing-with-Blast/blastdb/uniprot_sprot.fasta \\ \n",
    "-max_target_seqs 1 \\\n",
    "-outfmt 6 \\\n",
    "-num_threads 8 \\\n",
    "-out 1031-cbairdiblast-sprot.tab"
   ]
  },
  {
   "cell_type": "code",
   "execution_count": 9,
   "metadata": {},
   "outputs": [
    {
     "name": "stdout",
     "output_type": "stream",
     "text": [
      "head: 1031-cbairdiblast-sprot.tab: No such file or directory\r\n"
     ]
    }
   ],
   "source": [
    "!head 1031-cbairdiblast-sprot.tab"
   ]
  },
  {
   "cell_type": "code",
   "execution_count": 10,
   "metadata": {},
   "outputs": [
    {
     "name": "stdout",
     "output_type": "stream",
     "text": [
      "wc: 1031-cbairdiblast-sprot.tab: open: No such file or directory\r\n"
     ]
    }
   ],
   "source": [
    "!wc -l 1031-cbairdiblast-sprot.tab"
   ]
  },
  {
   "cell_type": "code",
   "execution_count": null,
   "metadata": {
    "collapsed": true
   },
   "outputs": [],
   "source": []
  }
 ],
 "metadata": {
  "kernelspec": {
   "display_name": "Python [default]",
   "language": "python",
   "name": "python3"
  }
 },
 "nbformat": 4,
 "nbformat_minor": 2
}
