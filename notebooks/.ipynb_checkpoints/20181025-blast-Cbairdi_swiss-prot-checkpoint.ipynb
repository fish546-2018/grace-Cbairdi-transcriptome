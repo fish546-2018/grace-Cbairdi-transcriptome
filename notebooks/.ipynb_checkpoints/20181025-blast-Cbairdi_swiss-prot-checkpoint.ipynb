{
 "cells": [
  {
   "cell_type": "markdown",
   "metadata": {},
   "source": [
    "# BLAST - _C. bairdi_ with Swiss prot"
   ]
  },
  {
   "cell_type": "markdown",
   "metadata": {},
   "source": [
    "#### Source: [https://raw.githubusercontent.com/fish546-2018/grace-Cbairdi-transcriptome/master/data/query.fa]"
   ]
  },
  {
   "cell_type": "code",
   "execution_count": 2,
   "metadata": {
    "collapsed": true
   },
   "outputs": [],
   "source": [
    "# Will blast Trinity.fasta against Swiss prot\n",
    "# Upload Trinity.fasta to http://owl.fish.washington.edu/scaphapoda/grace/Crab-project/\n",
    "# Copy the Trinity.fasta to http://owl.fish.washington.edu/scaphapoda/grace/Crab-project/Trinity.fasta\n",
    "# change name of Trinity.fasta in http://owl.fish.washington.edu/scaphapoda/grace/Crab-project/Trinity.fasta to \"query.fa\""
   ]
  },
  {
   "cell_type": "code",
   "execution_count": 3,
   "metadata": {
    "collapsed": true
   },
   "outputs": [],
   "source": [
    "wd= \"../data/\"\n",
    "dircode=\"cb\""
   ]
  },
  {
   "cell_type": "code",
   "execution_count": 4,
   "metadata": {},
   "outputs": [
    {
     "name": "stdout",
     "output_type": "stream",
     "text": [
      "/Users/graciecrandall/Documents/GitHub/grace-Cbairdi-transcriptome/data\n"
     ]
    }
   ],
   "source": [
    "cd {wd}"
   ]
  },
  {
   "cell_type": "code",
   "execution_count": 5,
   "metadata": {},
   "outputs": [
    {
     "name": "stdout",
     "output_type": "stream",
     "text": [
      "1030-cbairdiblast-sprot.tab  304428_S1_L002_R1_001.fastq\r\n",
      "1031-cbairdiblast-sprot.tab  304428_S1_L002_R2_001.fastq\r\n",
      "304428_S1_L001_R1_001.fastq  README.md\r\n",
      "304428_S1_L001_R2_001.fastq  query.fa\r\n"
     ]
    }
   ],
   "source": [
    "ls /Users/graciecrandall/Documents/GitHub/grace-Cbairdi-transcriptome/data/\n"
   ]
  },
  {
   "cell_type": "code",
   "execution_count": 6,
   "metadata": {},
   "outputs": [
    {
     "name": "stdout",
     "output_type": "stream",
     "text": [
      ">TRINITY_DN9_c0_g1_i1 len=226 path=[1:0-225] [-1, 1, -2]\r\n",
      "ATATAGTGTATACATATACAAATATTTAATCTTAACTTATGTGGAAAATGTTTCAAGGCT\r\n",
      "GGTTGGTCATGTTTTCATCAACACACCGTTCTTACACTGCTCAATCTGTGCTTTGAATCC\r\n",
      "CGTGTTGCACTCTTCCTCCTCATTCCTCATGCTTCTAACCATTCCTTCAGTGGCTGTCAC\r\n",
      "ATTCCACTCTTGGTGAACTTCAAACAGATAATAAAGTAGAAAGAGT\r\n",
      ">TRINITY_DN4_c0_g1_i1 len=248 path=[226:0-247] [-1, 226, -2]\r\n",
      "GCCCGAACAAAACACATTAATTAGATTAAACTTTTACTTTTTAATTAAGTAAACTCTACT\r\n",
      "TATATGTAAAGCTTTATAGGGTCTTATCGTCCCCCTAAAGAATCTAAGCCTTTTCACTTA\r\n",
      "GAGGTTAATTTCTAATTTTACAGTAAAGACAGCTTTTCCTTTGTCCGACCATTCATACAA\r\n",
      "GCTTTCAATCAAAAAGCTAATGATTATGCTACCTTTGCACGGTCAAAATACCGCGGCTCT\r\n"
     ]
    }
   ],
   "source": [
    "!head query.fa"
   ]
  },
  {
   "cell_type": "code",
   "execution_count": 7,
   "metadata": {
    "collapsed": true
   },
   "outputs": [],
   "source": [
    "#get uniprot_sprot.fasta from here: https://github.com/grace-ac/Practicing-with-Blast/blob/master/notebooks/Make_blast_db.ipynb"
   ]
  },
  {
   "cell_type": "code",
   "execution_count": 16,
   "metadata": {
    "collapsed": true
   },
   "outputs": [],
   "source": [
    "%%bash \n",
    "blastx \\\n",
    "-query query.fa \\\n",
    "-db /Users/graciecrandall/Documents/GitHub/Practicing-with-Blast/blastdb/uniprot_sprot \\\n",
    "-max_target_seqs 1 \\\n",
    "-outfmt 6 \\\n",
    "-num_threads 8 \\\n",
    "-out 1031-cbairdiblast-sprot.tab"
   ]
  },
  {
   "cell_type": "code",
   "execution_count": 7,
   "metadata": {},
   "outputs": [
    {
     "name": "stdout",
     "output_type": "stream",
     "text": [
      "TRINITY_DN9_c0_g1_i1\tsp|C4L937|SYS_TOLAT\t40.000\t25\t15\t0\t124\t198\t176\t200\t4.1\t28.9\r\n",
      "TRINITY_DN14_c0_g1_i1\tsp|O73556|POLG_HPE2W\t27.632\t76\t45\t3\t265\t44\t87\t154\t9.4\t28.5\r\n",
      "TRINITY_DN7_c0_g1_i1\tsp|C4NZN9|HYAST_HYAAR\t51.579\t95\t21\t2\t551\t342\t17\t111\t9.58e-17\t76.6\r\n",
      "TRINITY_DN7_c0_g1_i2\tsp|C4NZN9|HYAST_HYAAR\t56.311\t103\t20\t3\t238\t2\t12\t113\t2.88e-24\t91.3\r\n",
      "TRINITY_DN7_c0_g1_i3\tsp|C4NZN9|HYAST_HYAAR\t54.737\t95\t19\t2\t255\t43\t17\t111\t2.48e-20\t82.4\r\n",
      "TRINITY_DN11_c0_g1_i1\tsp|P04829|ACT3_BOMMO\t100.000\t55\t0\t0\t81\t245\t1\t55\t5.81e-34\t122\r\n",
      "TRINITY_DN10_c0_g1_i1\tsp|Q80UC6|GPR62_MOUSE\t39.130\t46\t27\t1\t183\t46\t92\t136\t3.4\t28.9\r\n",
      "TRINITY_DN13_c0_g1_i1\tsp|P14963|EF1A_EUGGR\t83.908\t87\t14\t0\t261\t1\t275\t361\t1.56e-47\t159\r\n",
      "TRINITY_DN12_c0_g1_i1\tsp|P16895|IELA_ANESU\t70.833\t24\t7\t0\t148\t219\t2\t25\t2.76e-04\t38.1\r\n",
      "TRINITY_DN8_c0_g1_i1\tsp|Q92193|ACT_CRAVI\t97.030\t101\t3\t0\t304\t2\t62\t162\t2.06e-66\t203\r\n"
     ]
    }
   ],
   "source": [
    "!head 1031-cbairdiblast-sprot.tab"
   ]
  },
  {
   "cell_type": "code",
   "execution_count": 18,
   "metadata": {},
   "outputs": [
    {
     "name": "stdout",
     "output_type": "stream",
     "text": [
      "      14 1031-cbairdiblast-sprot.tab\r\n"
     ]
    }
   ],
   "source": [
    "!wc -l 1031-cbairdiblast-sprot.tab"
   ]
  },
  {
   "cell_type": "code",
   "execution_count": 8,
   "metadata": {},
   "outputs": [
    {
     "name": "stdout",
     "output_type": "stream",
     "text": [
      "TRINITY_DN7_c0_g1_i3\tsp|C4NZN9|HYAST_HYAAR\t54.737\t95\t19\t2\t255\t43\t17\t111\t2.48e-20\t82.4\r\n",
      "TRINITY_DN11_c0_g1_i1\tsp|P04829|ACT3_BOMMO\t100.000\t55\t0\t0\t81\t245\t1\t55\t5.81e-34\t122\r\n",
      "TRINITY_DN10_c0_g1_i1\tsp|Q80UC6|GPR62_MOUSE\t39.130\t46\t27\t1\t183\t46\t92\t136\t3.4\t28.9\r\n",
      "TRINITY_DN13_c0_g1_i1\tsp|P14963|EF1A_EUGGR\t83.908\t87\t14\t0\t261\t1\t275\t361\t1.56e-47\t159\r\n",
      "TRINITY_DN12_c0_g1_i1\tsp|P16895|IELA_ANESU\t70.833\t24\t7\t0\t148\t219\t2\t25\t2.76e-04\t38.1\r\n",
      "TRINITY_DN8_c0_g1_i1\tsp|Q92193|ACT_CRAVI\t97.030\t101\t3\t0\t304\t2\t62\t162\t2.06e-66\t203\r\n",
      "TRINITY_DN5_c0_g1_i1\tsp|A4K2U0|WFDC5_CALJA\t39.130\t46\t25\t1\t227\t364\t29\t71\t2.9\t31.6\r\n",
      "TRINITY_DN2_c0_g1_i1\tsp|Q8WN22|PRKDC_CANLF\t44.828\t29\t16\t0\t131\t217\t3319\t3347\t2.5\t29.6\r\n",
      "TRINITY_DN2_c0_g1_i2\tsp|Q8WN22|PRKDC_CANLF\t44.828\t29\t16\t0\t107\t193\t3319\t3347\t1.9\t29.6\r\n",
      "TRINITY_DN15_c0_g1_i1\tsp|Q11212|ACT_SPOLI\t96.203\t79\t3\t0\t237\t1\t62\t140\t1.01e-52\t164\r\n"
     ]
    }
   ],
   "source": [
    "!tail 1031-cbairdiblast-sprot.tab"
   ]
  },
  {
   "cell_type": "code",
   "execution_count": null,
   "metadata": {
    "collapsed": true
   },
   "outputs": [],
   "source": []
  }
 ],
 "metadata": {
  "kernelspec": {
   "display_name": "Python [default]",
   "language": "python",
   "name": "python3"
  },
  "language_info": {
   "codemirror_mode": {
    "name": "ipython",
    "version": 3
   },
   "file_extension": ".py",
   "mimetype": "text/x-python",
   "name": "python",
   "nbconvert_exporter": "python",
   "pygments_lexer": "ipython3",
   "version": "3.5.3"
  }
 },
 "nbformat": 4,
 "nbformat_minor": 2
}
