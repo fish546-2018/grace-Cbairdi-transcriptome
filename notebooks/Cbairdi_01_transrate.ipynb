{
 "cells": [
  {
   "cell_type": "markdown",
   "metadata": {},
   "source": [
    "# Notebook for running Transrate to check quality of _C. bairdi_ library 01 quality"
   ]
  },
  {
   "cell_type": "markdown",
   "metadata": {},
   "source": [
    "### All trinity output files were rsync'ed to Owl: http://owl.fish.washington.edu/scaphapoda/grace/Crab-project/trinity_out_dir/"
   ]
  },
  {
   "cell_type": "code",
   "execution_count": 13,
   "metadata": {},
   "outputs": [],
   "source": [
    "wd = \"../../Documents/GitHub/grace-Cbairdi-transcriptome/notebooks/\""
   ]
  },
  {
   "cell_type": "code",
   "execution_count": 15,
   "metadata": {},
   "outputs": [
    {
     "name": "stdout",
     "output_type": "stream",
     "text": [
      "/Users/graciecrandall/Documents/GitHub/grace-Cbairdi-transcriptome/notebooks\n"
     ]
    }
   ],
   "source": [
    "cd {wd}"
   ]
  },
  {
   "cell_type": "code",
   "execution_count": 17,
   "metadata": {},
   "outputs": [
    {
     "data": {
      "text/plain": [
       "'/Users/graciecrandall/Documents/GitHub/grace-Cbairdi-transcriptome/notebooks'"
      ]
     },
     "execution_count": 17,
     "metadata": {},
     "output_type": "execute_result"
    }
   ],
   "source": [
    "pwd"
   ]
  },
  {
   "cell_type": "code",
   "execution_count": 19,
   "metadata": {},
   "outputs": [
    {
     "name": "stdout",
     "output_type": "stream",
     "text": [
      "  % Total    % Received % Xferd  Average Speed   Time    Time     Time  Current\n",
      "                                 Dload  Upload   Total   Spent    Left  Speed\n",
      "100  148M  100  148M    0     0  12.7M      0  0:00:11  0:00:11 --:--:-- 14.6M0  148M   60 89.8M    0     0  11.5M      0  0:00:12  0:00:07  0:00:05 11.4M13.0M\n"
     ]
    }
   ],
   "source": [
    "!curl \\\n",
    "http://owl.fish.washington.edu/scaphapoda/grace/Crab-project/1101-Cbairdi-assembly/trinity_out_dir/Trinity.fasta \\\n",
    "> ../analyses/trinity/11012018-Cbairdi-assembly.fasta"
   ]
  },
  {
   "cell_type": "code",
   "execution_count": 20,
   "metadata": {},
   "outputs": [
    {
     "name": "stdout",
     "output_type": "stream",
     "text": [
      "  % Total    % Received % Xferd  Average Speed   Time    Time     Time  Current\n",
      "                                 Dload  Upload   Total   Spent    Left  Speed\n",
      "100    56  100    56    0     0    125      0 --:--:-- --:--:-- --:--:--   134\n"
     ]
    }
   ],
   "source": [
    "!curl \\\n",
    "http://owl.fish.washington.edu/scaphapoda/grace/Crab-project/1101-Cbairdi-assembly/Cb01-shasum.txt \\\n",
    "> ../analyses/trinity/11012018-Cbairdi-shasum.txt"
   ]
  },
  {
   "cell_type": "code",
   "execution_count": 21,
   "metadata": {},
   "outputs": [
    {
     "name": "stdout",
     "output_type": "stream",
     "text": [
      "e0c9e70712ab7166f7b47f97bc576094a5db9037  Trinity.fasta\r\n"
     ]
    }
   ],
   "source": [
    "# shasum of trinity fasta file, transferred directly from Mox\n",
    "! cat ../analyses/trinity/11012018-Cbairdi-shasum.txt"
   ]
  },
  {
   "cell_type": "code",
   "execution_count": 25,
   "metadata": {},
   "outputs": [
    {
     "name": "stdout",
     "output_type": "stream",
     "text": [
      "e0c9e70712ab7166f7b47f97bc576094a5db9037  ../analyses/trinity/11012018-Cbairdi-assembly.fasta\r\n"
     ]
    }
   ],
   "source": [
    "# shasum of what I curled to /analyses/trinity/ \n",
    "! shasum ../analyses/trinity/11012018-Cbairdi-assembly.fasta"
   ]
  },
  {
   "cell_type": "code",
   "execution_count": 26,
   "metadata": {},
   "outputs": [
    {
     "name": "stdout",
     "output_type": "stream",
     "text": [
      "143172\r\n"
     ]
    }
   ],
   "source": [
    "! grep -c \">\" ../analyses/trinity/11012018-Cbairdi-assembly.fasta"
   ]
  },
  {
   "cell_type": "code",
   "execution_count": 10,
   "metadata": {},
   "outputs": [
    {
     "name": "stdout",
     "output_type": "stream",
     "text": [
      "[Errno 2] No such file or directory: '../../../../../graciecrandall/Downloads/transrate-1.0.3-osx/'\n",
      "/Users/graciecrandall/Downloads/transrate-1.0.3-osx\n"
     ]
    }
   ],
   "source": []
  },
  {
   "cell_type": "code",
   "execution_count": 11,
   "metadata": {},
   "outputs": [
    {
     "name": "stdout",
     "output_type": "stream",
     "text": [
      "\u001b[34mbin\u001b[m\u001b[m       \u001b[34mlib\u001b[m\u001b[m       \u001b[31mtransrate\u001b[m\u001b[m\r\n"
     ]
    }
   ],
   "source": [
    "!ls /Users/graciecrandall/Downloads/transrate-1.0.3-osx/"
   ]
  },
  {
   "cell_type": "code",
   "execution_count": 17,
   "metadata": {},
   "outputs": [
    {
     "name": "stdout",
     "output_type": "stream",
     "text": [
      "/bin/sh: transrate: command not found\r\n"
     ]
    }
   ],
   "source": [
    "# shasum of trinity fasta file, transferred directly from Mox to Owl http://owl.fish.washington.edu/scaphapoda/grace/Crab-project/fasta_files/Trinity.fasta\n",
    "! cat "
   ]
  },
  {
   "cell_type": "code",
   "execution_count": null,
   "metadata": {
    "collapsed": true
   },
   "outputs": [],
   "source": [
    "# Compare transcriptome fasta file on ostrich to the original on mox using shasum \n",
    "! shasum ../results/trinity/20181029-olurida-gonad-assembly.fasta"
   ]
  },
  {
   "cell_type": "code",
   "execution_count": null,
   "metadata": {
    "collapsed": true
   },
   "outputs": [],
   "source": [
    "! grep -c \">\" ../results/trinity/20181029-olurida-gonad-assembly.fasta"
   ]
  }
 ],
 "metadata": {
  "kernelspec": {
   "display_name": "Python [default]",
   "language": "python",
   "name": "python3"
  },
  "language_info": {
   "codemirror_mode": {
    "name": "ipython",
    "version": 3
   },
   "file_extension": ".py",
   "mimetype": "text/x-python",
   "name": "python",
   "nbconvert_exporter": "python",
   "pygments_lexer": "ipython3",
   "version": "3.5.3"
  }
 },
 "nbformat": 4,
 "nbformat_minor": 2
}
