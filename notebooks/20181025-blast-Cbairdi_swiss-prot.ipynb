{
 "cells": [
  {
   "cell_type": "markdown",
   "metadata": {},
   "source": [
    "# BLAST - _C. bairdi_ with Swiss prot"
   ]
  },
  {
   "cell_type": "markdown",
   "metadata": {},
   "source": [
    "#### Source: [https://raw.githubusercontent.com/fish546-2018/grace-Cbairdi-transcriptome/master/data/query.fa]"
   ]
  },
  {
   "cell_type": "code",
   "execution_count": 1,
   "metadata": {
    "collapsed": true
   },
   "outputs": [],
   "source": [
    "# Will blast Trinity.fasta against Swiss prot\n",
    "# Upload Trinity.fasta to http://owl.fish.washington.edu/scaphapoda/grace/Crab-project/\n",
    "# Copy the Trinity.fasta to http://owl.fish.washington.edu/scaphapoda/grace/Crab-project/Trinity.fasta\n",
    "# change name of Trinity.fasta in http://owl.fish.washington.edu/scaphapoda/grace/Crab-project/Trinity.fasta to \"query.fa\""
   ]
  },
  {
   "cell_type": "code",
   "execution_count": 5,
   "metadata": {
    "collapsed": true
   },
   "outputs": [],
   "source": [
    "wd= \"../data/\"\n",
    "dircode=\"cb\""
   ]
  },
  {
   "cell_type": "code",
   "execution_count": 6,
   "metadata": {},
   "outputs": [
    {
     "name": "stdout",
     "output_type": "stream",
     "text": [
      "/Users/graciecrandall/Documents/GitHub/grace-Cbairdi-transcriptome/data\n"
     ]
    }
   ],
   "source": [
    "cd {wd}"
   ]
  },
  {
   "cell_type": "code",
   "execution_count": 11,
   "metadata": {},
   "outputs": [
    {
     "name": "stdout",
     "output_type": "stream",
     "text": [
      "304428_S1_L001_R1_001.fastq  304428_S1_L002_R2_001.fastq\r\n",
      "304428_S1_L001_R2_001.fastq  README.md\r\n",
      "304428_S1_L002_R1_001.fastq  query.fa\r\n"
     ]
    }
   ],
   "source": [
    "ls /Users/graciecrandall/Documents/GitHub/grace-Cbairdi-transcriptome/data/\n"
   ]
  },
  {
   "cell_type": "code",
   "execution_count": 13,
   "metadata": {},
   "outputs": [
    {
     "name": "stdout",
     "output_type": "stream",
     "text": [
      ">TRINITY_DN9_c0_g1_i1 len=226 path=[1:0-225] [-1, 1, -2]\r\n",
      "ATATAGTGTATACATATACAAATATTTAATCTTAACTTATGTGGAAAATGTTTCAAGGCT\r\n",
      "GGTTGGTCATGTTTTCATCAACACACCGTTCTTACACTGCTCAATCTGTGCTTTGAATCC\r\n",
      "CGTGTTGCACTCTTCCTCCTCATTCCTCATGCTTCTAACCATTCCTTCAGTGGCTGTCAC\r\n",
      "ATTCCACTCTTGGTGAACTTCAAACAGATAATAAAGTAGAAAGAGT\r\n",
      ">TRINITY_DN4_c0_g1_i1 len=248 path=[226:0-247] [-1, 226, -2]\r\n",
      "GCCCGAACAAAACACATTAATTAGATTAAACTTTTACTTTTTAATTAAGTAAACTCTACT\r\n",
      "TATATGTAAAGCTTTATAGGGTCTTATCGTCCCCCTAAAGAATCTAAGCCTTTTCACTTA\r\n",
      "GAGGTTAATTTCTAATTTTACAGTAAAGACAGCTTTTCCTTTGTCCGACCATTCATACAA\r\n",
      "GCTTTCAATCAAAAAGCTAATGATTATGCTACCTTTGCACGGTCAAAATACCGCGGCTCT\r\n"
     ]
    }
   ],
   "source": [
    "!head query.fa"
   ]
  },
  {
   "cell_type": "code",
   "execution_count": 12,
   "metadata": {},
   "outputs": [
    {
     "name": "stdout",
     "output_type": "stream",
     "text": [
      "BLAST Database error: No alias or index file found for protein database [/Volumes/Data/blast_db/uniprot_sprot] in search path [/Users/graciecrandall/Documents/GitHub/grace-Cbairdi-transcriptome/data::]\r\n"
     ]
    }
   ],
   "source": [
    "!blastx \\\n",
    "-query query.fa \\\n",
    "-db /Volumes/Data/blast_db/uniprot_sprot \\\n",
    "-max_target_seqs 1 \\\n",
    "-outfmt 6 \\\n",
    "-num_threads 8 \\\n",
    "-out 1030-cbairdiblast-sprot.tab"
   ]
  },
  {
   "cell_type": "code",
   "execution_count": null,
   "metadata": {
    "collapsed": true
   },
   "outputs": [],
   "source": [
    "!head 1030-cbairdiblast-sprot.tab"
   ]
  },
  {
   "cell_type": "code",
   "execution_count": null,
   "metadata": {
    "collapsed": true
   },
   "outputs": [],
   "source": [
    "!wc -l 1030-cbairdiblast-sprot.tab"
   ]
  }
 ],
 "metadata": {
  "kernelspec": {
   "display_name": "Python [default]",
   "language": "python",
   "name": "python3"
  },
  "language_info": {
   "codemirror_mode": {
    "name": "ipython",
    "version": 3
   },
   "file_extension": ".py",
   "mimetype": "text/x-python",
   "name": "python",
   "nbconvert_exporter": "python",
   "pygments_lexer": "ipython3",
   "version": "3.5.3"
  }
 },
 "nbformat": 4,
 "nbformat_minor": 2
}
