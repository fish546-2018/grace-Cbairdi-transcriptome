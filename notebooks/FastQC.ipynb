{
 "cells": [
  {
   "cell_type": "code",
   "execution_count": 1,
   "metadata": {},
   "outputs": [
    {
     "name": "stdout",
     "output_type": "stream",
     "text": [
      "\r\n",
      "            FastQC - A high throughput sequence QC analysis tool\r\n",
      "\r\n",
      "SYNOPSIS\r\n",
      "\r\n",
      "\tfastqc seqfile1 seqfile2 .. seqfileN\r\n",
      "\r\n",
      "    fastqc [-o output dir] [--(no)extract] [-f fastq|bam|sam] \r\n",
      "           [-c contaminant file] seqfile1 .. seqfileN\r\n",
      "\r\n",
      "DESCRIPTION\r\n",
      "\r\n",
      "    FastQC reads a set of sequence files and produces from each one a quality\r\n",
      "    control report consisting of a number of different modules, each one of \r\n",
      "    which will help to identify a different potential type of problem in your\r\n",
      "    data.\r\n",
      "    \r\n",
      "    If no files to process are specified on the command line then the program\r\n",
      "    will start as an interactive graphical application.  If files are provided\r\n",
      "    on the command line then the program will run with no user interaction\r\n",
      "    required.  In this mode it is suitable for inclusion into a standardised\r\n",
      "    analysis pipeline.\r\n",
      "    \r\n",
      "    The options for the program as as follows:\r\n",
      "    \r\n",
      "    -h --help       Print this help file and exit\r\n",
      "    \r\n",
      "    -v --version    Print the version of the program and exit\r\n",
      "    \r\n",
      "    -o --outdir     Create all output files in the specified output directory.\r\n",
      "                    Please note that this directory must exist as the program\r\n",
      "                    will not create it.  If this option is not set then the \r\n",
      "                    output file for each sequence file is created in the same\r\n",
      "                    directory as the sequence file which was processed.\r\n",
      "                    \r\n",
      "    --casava        Files come from raw casava output. Files in the same sample\r\n",
      "                    group (differing only by the group number) will be analysed\r\n",
      "                    as a set rather than individually. Sequences with the filter\r\n",
      "                    flag set in the header will be excluded from the analysis.\r\n",
      "                    Files must have the same names given to them by casava\r\n",
      "                    (including being gzipped and ending with .gz) otherwise they\r\n",
      "                    won't be grouped together correctly.\r\n",
      "                    \r\n",
      "    --nano          Files come from nanopore sequences and are in fast5 format. In\r\n",
      "                    this mode you can pass in directories to process and the program\r\n",
      "                    will take in all fast5 files within those directories and produce\r\n",
      "                    a single output file from the sequences found in all files.                    \r\n",
      "                    \r\n",
      "    --nofilter      If running with --casava then don't remove read flagged by\r\n",
      "                    casava as poor quality when performing the QC analysis.\r\n",
      "                   \r\n",
      "    --extract       If set then the zipped output file will be uncompressed in\r\n",
      "                    the same directory after it has been created.  By default\r\n",
      "                    this option will be set if fastqc is run in non-interactive\r\n",
      "                    mode.\r\n",
      "                    \r\n",
      "    -j --java       Provides the full path to the java binary you want to use to\r\n",
      "                    launch fastqc. If not supplied then java is assumed to be in\r\n",
      "                    your path.\r\n",
      "                   \r\n",
      "    --noextract     Do not uncompress the output file after creating it.  You\r\n",
      "                    should set this option if you do not wish to uncompress\r\n",
      "                    the output when running in non-interactive mode.\r\n",
      "                    \r\n",
      "    --nogroup       Disable grouping of bases for reads >50bp. All reports will\r\n",
      "                    show data for every base in the read.  WARNING: Using this\r\n",
      "                    option will cause fastqc to crash and burn if you use it on\r\n",
      "                    really long reads, and your plots may end up a ridiculous size.\r\n",
      "                    You have been warned!\r\n",
      "                    \r\n",
      "    --min_length    Sets an artificial lower limit on the length of the sequence\r\n",
      "                    to be shown in the report.  As long as you set this to a value\r\n",
      "                    greater or equal to your longest read length then this will be\r\n",
      "                    the sequence length used to create your read groups.  This can\r\n",
      "                    be useful for making directly comaparable statistics from \r\n",
      "                    datasets with somewhat variable read lengths.\r\n",
      "                    \r\n",
      "    -f --format     Bypasses the normal sequence file format detection and\r\n",
      "                    forces the program to use the specified format.  Valid\r\n",
      "                    formats are bam,sam,bam_mapped,sam_mapped and fastq\r\n",
      "                    \r\n",
      "    -t --threads    Specifies the number of files which can be processed\r\n",
      "                    simultaneously.  Each thread will be allocated 250MB of\r\n",
      "                    memory so you shouldn't run more threads than your\r\n",
      "                    available memory will cope with, and not more than\r\n",
      "                    6 threads on a 32 bit machine\r\n",
      "                  \r\n",
      "    -c              Specifies a non-default file which contains the list of\r\n",
      "    --contaminants  contaminants to screen overrepresented sequences against.\r\n",
      "                    The file must contain sets of named contaminants in the\r\n",
      "                    form name[tab]sequence.  Lines prefixed with a hash will\r\n",
      "                    be ignored.\r\n",
      "\r\n",
      "    -a              Specifies a non-default file which contains the list of\r\n",
      "    --adapters      adapter sequences which will be explicity searched against\r\n",
      "                    the library. The file must contain sets of named adapters\r\n",
      "                    in the form name[tab]sequence.  Lines prefixed with a hash\r\n",
      "                    will be ignored.\r\n",
      "                    \r\n",
      "    -l              Specifies a non-default file which contains a set of criteria\r\n",
      "    --limits        which will be used to determine the warn/error limits for the\r\n",
      "                    various modules.  This file can also be used to selectively \r\n",
      "                    remove some modules from the output all together.  The format\r\n",
      "                    needs to mirror the default limits.txt file found in the\r\n",
      "                    Configuration folder.\r\n",
      "                    \r\n",
      "   -k --kmers       Specifies the length of Kmer to look for in the Kmer content\r\n",
      "                    module. Specified Kmer length must be between 2 and 10. Default\r\n",
      "                    length is 7 if not specified.\r\n",
      "                    \r\n",
      "   -q --quiet       Supress all progress messages on stdout and only report errors.\r\n",
      "   \r\n",
      "   -d --dir         Selects a directory to be used for temporary files written when\r\n",
      "                    generating report images. Defaults to system temp directory if\r\n",
      "                    not specified.\r\n",
      "                    \r\n",
      "BUGS\r\n",
      "\r\n",
      "    Any bugs in fastqc should be reported either to simon.andrews@babraham.ac.uk\r\n",
      "    or in www.bioinformatics.babraham.ac.uk/bugzilla/\r\n",
      "                   \r\n",
      "    \r\n"
     ]
    }
   ],
   "source": [
    "!/Users/graciecrandall/Downloads/FastQC/fastqc -h"
   ]
  },
  {
   "cell_type": "code",
   "execution_count": 8,
   "metadata": {},
   "outputs": [
    {
     "name": "stdout",
     "output_type": "stream",
     "text": [
      "Started analysis of 304428_S1_L001_R1_001.fastq\n",
      "Analysis complete for 304428_S1_L001_R1_001.fastq\n"
     ]
    }
   ],
   "source": [
    "!/Users/graciecrandall/Downloads/FastQC/fastqc \\\n",
    "/Users/graciecrandall/Downloads/304428_S1_L001_R1_001.fastq \\\n",
    "-o /Users/graciecrandall/Documents/GitHub/grace-Cbairdi-transcriptome/analyses/"
   ]
  },
  {
   "cell_type": "code",
   "execution_count": 9,
   "metadata": {},
   "outputs": [
    {
     "name": "stdout",
     "output_type": "stream",
     "text": [
      "304428_S1_L001_R1_001_fastqc.html 304428_S1_L002_R1_001_fastqc.zip\r\n",
      "304428_S1_L001_R1_001_fastqc.zip  304428_S1_L002_R2_001_fastqc.html\r\n",
      "304428_S1_L001_R2_001_fastqc.html 304428_S1_L002_R2_001_fastqc.zip\r\n",
      "304428_S1_L001_R2_001_fastqc.zip  README.md\r\n",
      "304428_S1_L002_R1_001_fastqc.html\r\n"
     ]
    }
   ],
   "source": [
    "!ls /Users/graciecrandall/Documents/GitHub/grace-Cbairdi-transcriptome/analyses/"
   ]
  },
  {
   "cell_type": "code",
   "execution_count": null,
   "metadata": {
    "collapsed": true
   },
   "outputs": [],
   "source": []
  }
 ],
 "metadata": {
  "kernelspec": {
   "display_name": "Python [default]",
   "language": "python",
   "name": "python3"
  },
  "language_info": {
   "codemirror_mode": {
    "name": "ipython",
    "version": 3
   },
   "file_extension": ".py",
   "mimetype": "text/x-python",
   "name": "python",
   "nbconvert_exporter": "python",
   "pygments_lexer": "ipython3",
   "version": "3.5.3"
  }
 },
 "nbformat": 4,
 "nbformat_minor": 2
}
